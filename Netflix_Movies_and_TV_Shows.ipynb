{
 "cells": [
  {
   "cell_type": "code",
   "execution_count": 1,
   "id": "f239ddbb",
   "metadata": {},
   "outputs": [],
   "source": [
    "import pandas as pd"
   ]
  },
  {
   "cell_type": "code",
   "execution_count": 5,
   "id": "3822b75e",
   "metadata": {},
   "outputs": [],
   "source": [
    "df = pd.read_csv(r\"C:\\Internship\\Task\\Task1\\data\\Netflix_movies_and_tv_shows_clustering.csv\")"
   ]
  },
  {
   "cell_type": "code",
   "execution_count": 6,
   "id": "84553485",
   "metadata": {},
   "outputs": [
    {
     "data": {
      "text/html": [
       "<div>\n",
       "<style scoped>\n",
       "    .dataframe tbody tr th:only-of-type {\n",
       "        vertical-align: middle;\n",
       "    }\n",
       "\n",
       "    .dataframe tbody tr th {\n",
       "        vertical-align: top;\n",
       "    }\n",
       "\n",
       "    .dataframe thead th {\n",
       "        text-align: right;\n",
       "    }\n",
       "</style>\n",
       "<table border=\"1\" class=\"dataframe\">\n",
       "  <thead>\n",
       "    <tr style=\"text-align: right;\">\n",
       "      <th></th>\n",
       "      <th>show_id</th>\n",
       "      <th>type</th>\n",
       "      <th>title</th>\n",
       "      <th>director</th>\n",
       "      <th>cast</th>\n",
       "      <th>country</th>\n",
       "      <th>date_added</th>\n",
       "      <th>release_year</th>\n",
       "      <th>rating</th>\n",
       "      <th>duration</th>\n",
       "      <th>listed_in</th>\n",
       "      <th>description</th>\n",
       "    </tr>\n",
       "  </thead>\n",
       "  <tbody>\n",
       "    <tr>\n",
       "      <th>5334</th>\n",
       "      <td>s5335</td>\n",
       "      <td>Movie</td>\n",
       "      <td>Sadece Sen</td>\n",
       "      <td>Hakan Yonat</td>\n",
       "      <td>Belçim Bilgin, İbrahim Çelikkol, Kerem Can, Ne...</td>\n",
       "      <td>Turkey</td>\n",
       "      <td>March 10, 2017</td>\n",
       "      <td>2014</td>\n",
       "      <td>TV-MA</td>\n",
       "      <td>105 min</td>\n",
       "      <td>Dramas, International Movies, Romantic Movies</td>\n",
       "      <td>An ex-boxer falls in love with a blind woman a...</td>\n",
       "    </tr>\n",
       "    <tr>\n",
       "      <th>722</th>\n",
       "      <td>s723</td>\n",
       "      <td>Movie</td>\n",
       "      <td>Bangkok Hell</td>\n",
       "      <td>Manop Janjarasskul</td>\n",
       "      <td>Chalad Na Songkhla, Sahatchai 'Stop' Chumrum, ...</td>\n",
       "      <td>Thailand</td>\n",
       "      <td>September 14, 2018</td>\n",
       "      <td>2002</td>\n",
       "      <td>TV-MA</td>\n",
       "      <td>107 min</td>\n",
       "      <td>Dramas, International Movies</td>\n",
       "      <td>When offered a deal to snitch on fellow prison...</td>\n",
       "    </tr>\n",
       "    <tr>\n",
       "      <th>151</th>\n",
       "      <td>s152</td>\n",
       "      <td>Movie</td>\n",
       "      <td>A Boy Called Po</td>\n",
       "      <td>John Asher</td>\n",
       "      <td>Christopher Gorham, Julian Feder, Kaitlin Doub...</td>\n",
       "      <td>United States</td>\n",
       "      <td>January 15, 2018</td>\n",
       "      <td>2016</td>\n",
       "      <td>PG</td>\n",
       "      <td>94 min</td>\n",
       "      <td>Dramas, Sci-Fi &amp; Fantasy</td>\n",
       "      <td>After his wife's death, an overworked engineer...</td>\n",
       "    </tr>\n",
       "    <tr>\n",
       "      <th>3445</th>\n",
       "      <td>s3446</td>\n",
       "      <td>Movie</td>\n",
       "      <td>Krish Trish and Baltiboy: Battle of Wits</td>\n",
       "      <td>Munjal Shroff, Tilak Shetty</td>\n",
       "      <td>Damandeep Singh Baggan, Smita Malhotra, Baba S...</td>\n",
       "      <td>NaN</td>\n",
       "      <td>September 8, 2017</td>\n",
       "      <td>2013</td>\n",
       "      <td>TV-Y7</td>\n",
       "      <td>62 min</td>\n",
       "      <td>Children &amp; Family Movies</td>\n",
       "      <td>An artisan is cheated of his payment, a lion o...</td>\n",
       "    </tr>\n",
       "    <tr>\n",
       "      <th>5663</th>\n",
       "      <td>s5664</td>\n",
       "      <td>TV Show</td>\n",
       "      <td>Sleepless Society: Insomnia</td>\n",
       "      <td>Pantham Thongsang, Cheewatan Pusitsuksa</td>\n",
       "      <td>Chutimon Chuengcharoensukying, Sutthirak Subvi...</td>\n",
       "      <td>Thailand</td>\n",
       "      <td>February 13, 2020</td>\n",
       "      <td>2019</td>\n",
       "      <td>TV-MA</td>\n",
       "      <td>1 Season</td>\n",
       "      <td>Crime TV Shows, International TV Shows, TV Dramas</td>\n",
       "      <td>Haunted by recurring visions, a young woman wi...</td>\n",
       "    </tr>\n",
       "  </tbody>\n",
       "</table>\n",
       "</div>"
      ],
      "text/plain": [
       "     show_id     type                                     title  \\\n",
       "5334   s5335    Movie                                Sadece Sen   \n",
       "722     s723    Movie                              Bangkok Hell   \n",
       "151     s152    Movie                           A Boy Called Po   \n",
       "3445   s3446    Movie  Krish Trish and Baltiboy: Battle of Wits   \n",
       "5663   s5664  TV Show               Sleepless Society: Insomnia   \n",
       "\n",
       "                                     director  \\\n",
       "5334                              Hakan Yonat   \n",
       "722                        Manop Janjarasskul   \n",
       "151                                John Asher   \n",
       "3445              Munjal Shroff, Tilak Shetty   \n",
       "5663  Pantham Thongsang, Cheewatan Pusitsuksa   \n",
       "\n",
       "                                                   cast        country  \\\n",
       "5334  Belçim Bilgin, İbrahim Çelikkol, Kerem Can, Ne...         Turkey   \n",
       "722   Chalad Na Songkhla, Sahatchai 'Stop' Chumrum, ...       Thailand   \n",
       "151   Christopher Gorham, Julian Feder, Kaitlin Doub...  United States   \n",
       "3445  Damandeep Singh Baggan, Smita Malhotra, Baba S...            NaN   \n",
       "5663  Chutimon Chuengcharoensukying, Sutthirak Subvi...       Thailand   \n",
       "\n",
       "              date_added  release_year rating  duration  \\\n",
       "5334      March 10, 2017          2014  TV-MA   105 min   \n",
       "722   September 14, 2018          2002  TV-MA   107 min   \n",
       "151     January 15, 2018          2016     PG    94 min   \n",
       "3445   September 8, 2017          2013  TV-Y7    62 min   \n",
       "5663   February 13, 2020          2019  TV-MA  1 Season   \n",
       "\n",
       "                                              listed_in  \\\n",
       "5334      Dramas, International Movies, Romantic Movies   \n",
       "722                        Dramas, International Movies   \n",
       "151                            Dramas, Sci-Fi & Fantasy   \n",
       "3445                           Children & Family Movies   \n",
       "5663  Crime TV Shows, International TV Shows, TV Dramas   \n",
       "\n",
       "                                            description  \n",
       "5334  An ex-boxer falls in love with a blind woman a...  \n",
       "722   When offered a deal to snitch on fellow prison...  \n",
       "151   After his wife's death, an overworked engineer...  \n",
       "3445  An artisan is cheated of his payment, a lion o...  \n",
       "5663  Haunted by recurring visions, a young woman wi...  "
      ]
     },
     "execution_count": 6,
     "metadata": {},
     "output_type": "execute_result"
    }
   ],
   "source": [
    "df.sample(5)"
   ]
  },
  {
   "cell_type": "code",
   "execution_count": 7,
   "id": "25bf9edc",
   "metadata": {},
   "outputs": [
    {
     "name": "stdout",
     "output_type": "stream",
     "text": [
      "<class 'pandas.core.frame.DataFrame'>\n",
      "RangeIndex: 7787 entries, 0 to 7786\n",
      "Data columns (total 12 columns):\n",
      " #   Column        Non-Null Count  Dtype \n",
      "---  ------        --------------  ----- \n",
      " 0   show_id       7787 non-null   object\n",
      " 1   type          7787 non-null   object\n",
      " 2   title         7787 non-null   object\n",
      " 3   director      5398 non-null   object\n",
      " 4   cast          7069 non-null   object\n",
      " 5   country       7280 non-null   object\n",
      " 6   date_added    7777 non-null   object\n",
      " 7   release_year  7787 non-null   int64 \n",
      " 8   rating        7780 non-null   object\n",
      " 9   duration      7787 non-null   object\n",
      " 10  listed_in     7787 non-null   object\n",
      " 11  description   7787 non-null   object\n",
      "dtypes: int64(1), object(11)\n",
      "memory usage: 730.2+ KB\n"
     ]
    }
   ],
   "source": [
    "df.info()"
   ]
  },
  {
   "cell_type": "code",
   "execution_count": 9,
   "id": "9842016e",
   "metadata": {},
   "outputs": [],
   "source": [
    "df[\"date_added\"] = pd.to_datetime(df[\"date_added\"], errors=\"coerce\")"
   ]
  },
  {
   "cell_type": "code",
   "execution_count": 10,
   "id": "d24ea34f",
   "metadata": {},
   "outputs": [
    {
     "data": {
      "text/plain": [
       "show_id            0\n",
       "type               0\n",
       "title              0\n",
       "director        2389\n",
       "cast             718\n",
       "country          507\n",
       "date_added        98\n",
       "release_year       0\n",
       "rating             7\n",
       "duration           0\n",
       "listed_in          0\n",
       "description        0\n",
       "dtype: int64"
      ]
     },
     "execution_count": 10,
     "metadata": {},
     "output_type": "execute_result"
    }
   ],
   "source": [
    "df.isnull().sum()"
   ]
  },
  {
   "cell_type": "code",
   "execution_count": 11,
   "id": "6506a1a1",
   "metadata": {},
   "outputs": [],
   "source": [
    "for col in [\"director\", \"cast\", \"country\", \"rating\"]:\n",
    "    df[col] = df[col].fillna(\"Unknown\")"
   ]
  },
  {
   "cell_type": "code",
   "execution_count": 12,
   "id": "bc394859",
   "metadata": {},
   "outputs": [],
   "source": [
    "df[\"date_added\"] = df[\"date_added\"].fillna(pd.Timestamp(\"2000-01-01\"))"
   ]
  },
  {
   "cell_type": "code",
   "execution_count": 13,
   "metadata": {},
   "outputs": [
    {
     "name": "stderr",
     "output_type": "stream",
     "text": [
      "<>:2: SyntaxWarning: invalid escape sequence '\\d'\n",
      "<>:2: SyntaxWarning: invalid escape sequence '\\d'\n",
      "C:\\Users\\Abhijit\\AppData\\Local\\Temp\\ipykernel_23960\\3665044662.py:2: SyntaxWarning: invalid escape sequence '\\d'\n",
      "  df[\"duration_int\"] = df[\"duration\"].str.extract('(\\d+)').astype(float)\n"
     ]
    }
   ],
   "source": [
    "df[\"duration_type\"] = df[\"duration\"].apply(lambda x: \"Season(s)\" if \"Season\" in x else \"Minutes\")\n",
    "df[\"duration_int\"] = df[\"duration\"].str.extract('(\\d+)').astype(float)"
   ]
  },
  {
   "cell_type": "code",
   "execution_count": 14,
   "id": "0a6a7a04",
   "metadata": {},
   "outputs": [],
   "source": [
    "df.drop_duplicates(inplace=True)"
   ]
  },
  {
   "cell_type": "code",
   "execution_count": 15,
   "id": "5a81f81a",
   "metadata": {},
   "outputs": [],
   "source": [
    "df.reset_index(drop=True, inplace=True)"
   ]
  },
  {
   "cell_type": "code",
   "execution_count": null,
   "id": "715407a6",
   "metadata": {},
   "outputs": [],
   "source": []
  }
 ],
 "metadata": {
  "kernelspec": {
   "display_name": "task",
   "language": "python",
   "name": "python3"
  },
  "language_info": {
   "codemirror_mode": {
    "name": "ipython",
    "version": 3
   },
   "file_extension": ".py",
   "mimetype": "text/x-python",
   "name": "python",
   "nbconvert_exporter": "python",
   "pygments_lexer": "ipython3",
   "version": "3.13.1"
  }
 },
 "nbformat": 4,
 "nbformat_minor": 5
}
